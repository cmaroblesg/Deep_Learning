{
 "cells": [
  {
   "cell_type": "code",
   "execution_count": 1,
   "id": "2551b79b",
   "metadata": {},
   "outputs": [],
   "source": [
    "import numpy as np\n",
    "import tensorflow as tf"
   ]
  },
  {
   "cell_type": "code",
   "execution_count": 8,
   "id": "6340f596",
   "metadata": {},
   "outputs": [
    {
     "name": "stdout",
     "output_type": "stream",
     "text": [
      "<tf.Variable 'Variable:0' shape=() dtype=float32, numpy=0.0>\n"
     ]
    }
   ],
   "source": [
    "w = tf.Variable(0, dtype=tf.float32)\n",
    "optimizer = tf.keras.optimizers.Adam(0.1)\n",
    "\n",
    "def train_step():\n",
    "    with tf.GradientTape() as tape:\n",
    "        cost = w**2 - 10*w +25\n",
    "    trainable_variable = [w]\n",
    "    grads = tape.gradient(cost, trainable_variable)\n",
    "    optimizer.apply_gradients(zip(grads, trainable_variable))\n",
    "print(w)"
   ]
  },
  {
   "cell_type": "code",
   "execution_count": 9,
   "id": "f1400637",
   "metadata": {},
   "outputs": [
    {
     "name": "stdout",
     "output_type": "stream",
     "text": [
      "<tf.Variable 'Variable:0' shape=() dtype=float32, numpy=0.09999997>\n"
     ]
    }
   ],
   "source": [
    "train_step()\n",
    "print(w)"
   ]
  },
  {
   "cell_type": "code",
   "execution_count": 11,
   "id": "c508120d",
   "metadata": {},
   "outputs": [
    {
     "name": "stdout",
     "output_type": "stream",
     "text": [
      "<tf.Variable 'Variable:0' shape=() dtype=float32, numpy=5.000001>\n"
     ]
    }
   ],
   "source": [
    "for i in range(1000):\n",
    "    train_step()\n",
    "print(w)"
   ]
  },
  {
   "cell_type": "code",
   "execution_count": 19,
   "id": "c99a7dc1",
   "metadata": {},
   "outputs": [
    {
     "name": "stdout",
     "output_type": "stream",
     "text": [
      "<tf.Variable 'Variable:0' shape=() dtype=float32, numpy=5.000001>\n"
     ]
    }
   ],
   "source": [
    "w = tf.Variable(0, dtype=tf.float32)\n",
    "x = np.array([1.0, -10.0, 25.0], dtype=np.float32)\n",
    "optimizer = tf.keras.optimizers.Adam(0.1)\n",
    "\n",
    "def training(x,w,optimizer):\n",
    "    def cost_fn():\n",
    "        return  x[0]*w**2 +x[1]*w +x[2]\n",
    "    for i in range(1000):\n",
    "        optimizer.minimize(cost_fn,[w])\n",
    "    return w\n",
    "\n",
    "w = training(x,w, optimizer)\n",
    "print(w)"
   ]
  },
  {
   "cell_type": "code",
   "execution_count": null,
   "id": "f3bd2d7e",
   "metadata": {},
   "outputs": [],
   "source": []
  }
 ],
 "metadata": {
  "kernelspec": {
   "display_name": "Python 3",
   "language": "python",
   "name": "python3"
  },
  "language_info": {
   "codemirror_mode": {
    "name": "ipython",
    "version": 3
   },
   "file_extension": ".py",
   "mimetype": "text/x-python",
   "name": "python",
   "nbconvert_exporter": "python",
   "pygments_lexer": "ipython3",
   "version": "3.8.5"
  }
 },
 "nbformat": 4,
 "nbformat_minor": 5
}
